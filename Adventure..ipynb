{
 "cells": [
  {
   "cell_type": "code",
   "execution_count": null,
   "id": "ef5b90ff-bb38-438b-aa47-621cf6ee6a27",
   "metadata": {},
   "outputs": [],
   "source": [
    "#Import Library"
   ]
  },
  {
   "cell_type": "code",
   "execution_count": null,
   "id": "2bef2355-65d0-46c3-8c76-5cf0181463b4",
   "metadata": {},
   "outputs": [],
   "source": [
    "import pandas as pd "
   ]
  },
  {
   "cell_type": "code",
   "execution_count": null,
   "id": "e5b52608-4dd5-44a3-81b7-de25cfe83283",
   "metadata": {},
   "outputs": [],
   "source": [
    "#Pre Data Cleaning :\n",
    "\"\"\"Before starting the cleaning process, I removed irrelevant or unnecessary columns (including some completely empty columns) \n",
    "from each table using Excel to simplify analysis.\"\"\""
   ]
  },
  {
   "cell_type": "code",
   "execution_count": null,
   "id": "2ccfdc2f-03bf-4de4-9e08-78298b1d5609",
   "metadata": {},
   "outputs": [],
   "source": [
    "#Basic Data Cleaning(Data Wrangling):"
   ]
  },
  {
   "cell_type": "code",
   "execution_count": 109,
   "id": "8b44c6ce-523b-4c0f-b7c1-7fb0248d710e",
   "metadata": {},
   "outputs": [],
   "source": [
    "def wrangle(filepath):\n",
    "    data=pd.read_excel(filepath)\n",
    "    print(data.head())\n",
    "    'data info'\n",
    "    data.info()\n",
    "    \"checking null values in data\"\n",
    "    print(data.isnull().sum())\n",
    "    \"check duplicate values\"\n",
    "    print(data.duplicated().value_counts())\n",
    "    \n",
    "    "
   ]
  },
  {
   "cell_type": "code",
   "execution_count": null,
   "id": "6a935daa-8092-4054-b866-a04de64e275f",
   "metadata": {},
   "outputs": [],
   "source": [
    "DataList=[\"SalesOrderHeader.xlsx\",\"SalesOrderDetail.xlsx\",\"Product.xlsx\",\"ProductCategory.xlsx\",\n",
    "       \"ProductSubcategory.xlsx\",\"Customer.xlsx\",\"SalesTerritory.xlsx\"]\n",
    "for i in DataList:\n",
    "    l=wrangle(i)\n",
    "    "
   ]
  },
  {
   "cell_type": "code",
   "execution_count": null,
   "id": "63da0027-a411-49a9-a421-42b45780203e",
   "metadata": {},
   "outputs": [],
   "source": [
    "##Data Overview and Observations:\n",
    "\n",
    "All column names are properly formatted.\n",
    "Each table contains unique rows with no duplicates.\n",
    "\n",
    "#SalesOrderHeader: \n",
    "has 31465 rows and 5 columns.\n",
    "PurchaseOrderNumber    27659 null values\n",
    "SalesPersonID          27659 null values\n",
    "drop these 2 columns due to excessive nulls.\n",
    "drop status column (only 1 unique value)\n",
    "Convert SalesOrderID dtype from 'datetime' to 'object'.\n",
    "SubTotal and TotalDue have no negative values.\n",
    "\n",
    "#SalesOrderDetail: \n",
    "has 121317  rows and 8 columns.\n",
    "Convert SalesOrderID dtype  from 'datetime'to 'object'.\n",
    "UnitPrice,LineTotal,UnitPriceDiscount have no negative values.\n",
    "    \n",
    "#Product:\n",
    "has 509 entries and 9 columns.\n",
    "Color     248 null values (replace with \"unknown\" ).\n",
    "ProductSubcategoryID    209 null values (replace with 0) + convert dtype from \"float\" to 'int'.\n",
    "StandardCost and ListPrice have no negative values.\n",
    "\n",
    "#ProductCategory \n",
    "has 4 entries and 2 columns.\n",
    "\n",
    "#ProductSubcategory\n",
    "has 37 entries and 3 colimns.\n",
    "\n",
    "#Customer:\n",
    "has 19820 and 4 columns.\n",
    "PersonID 701 null values \n",
    "StoreID 18484 null values (90% values missing); drop this column.\n",
    "\n",
    "#Territory\n",
    "has 10 entries and 4 columns.\n"
   ]
  },
  {
   "cell_type": "code",
   "execution_count": 112,
   "id": "f2797646-8b83-4e73-9691-565012a38daa",
   "metadata": {},
   "outputs": [],
   "source": [
    "#Data Cleaning: SalesOrderHeader Table\n",
    "\n",
    "Data Cleaning: Customer Table\n"
   ]
  },
  {
   "cell_type": "code",
   "execution_count": 180,
   "id": "a2978e9f-02dd-411b-aca3-22264c44cd4a",
   "metadata": {},
   "outputs": [
    {
     "name": "stdout",
     "output_type": "stream",
     "text": [
      "2011-05-31 00:00:00 2014-06-30 00:00:00\n",
      "              SalesOrderID  OrderDate    DueDate   ShipDate  OnlineOrderFlag  \\\n",
      "0      2019-07-13 00:00:00 2011-05-31 2011-06-12 2011-06-07                0   \n",
      "1      2019-07-14 00:00:00 2011-05-31 2011-06-12 2011-06-07                0   \n",
      "2      2019-07-15 00:00:00 2011-05-31 2011-06-12 2011-06-07                0   \n",
      "3      2019-07-16 00:00:00 2011-05-31 2011-06-12 2011-06-07                0   \n",
      "4      2019-07-17 00:00:00 2011-05-31 2011-06-12 2011-06-07                0   \n",
      "...                    ...        ...        ...        ...              ...   \n",
      "31460  2105-08-31 00:00:00 2014-06-30 2014-07-12 2014-07-07                1   \n",
      "31461  2105-09-01 00:00:00 2014-06-30 2014-07-12 2014-07-07                1   \n",
      "31462  2105-09-02 00:00:00 2014-06-30 2014-07-12 2014-07-07                1   \n",
      "31463  2105-09-03 00:00:00 2014-06-30 2014-07-12 2014-07-07                1   \n",
      "31464  2105-09-04 00:00:00 2014-06-30 2014-07-12 2014-07-07                1   \n",
      "\n",
      "       CustomerID  TerritoryID  ShipMethodID    SubTotal     TaxAmt  \\\n",
      "0           29825            5             5  20565.6206  1971.5149   \n",
      "1           29672            5             5   1294.2529   124.2483   \n",
      "2           29734            6             5  32726.4786  3153.7696   \n",
      "3           29994            6             5  28832.5289  2775.1646   \n",
      "4           29565            4             5    419.4589    40.2681   \n",
      "...           ...          ...           ...         ...        ...   \n",
      "31460       11981            1             1     42.2800     3.3824   \n",
      "31461       18749            6             1     84.9600     6.7968   \n",
      "31462       15251            6             1     74.9800     5.9984   \n",
      "31463       15868            6             1     30.9700     2.4776   \n",
      "31464       18759            6             1    189.9700    15.1976   \n",
      "\n",
      "       ShippingCost    TotalDue  \n",
      "0          616.0984  23153.2339  \n",
      "1           38.8276   1457.3288  \n",
      "2          985.5530  36865.8012  \n",
      "3          867.2389  32474.9324  \n",
      "4           12.5838    472.3108  \n",
      "...             ...         ...  \n",
      "31460        1.0570     46.7194  \n",
      "31461        2.1240     93.8808  \n",
      "31462        1.8745     82.8529  \n",
      "31463        0.7743     34.2219  \n",
      "31464        4.7493    209.9169  \n",
      "\n",
      "[31465 rows x 12 columns]\n"
     ]
    }
   ],
   "source": [
    "\"import dataset\"\n",
    "data=pd.read_excel(\"SalesOrderHeader.xlsx\")\n",
    "'remove unnecessary columns \"status\" ,\" PurchaseOrderNumber\",\"SalesPersonID \"'\n",
    "data.drop(columns=['SalesPersonID','Status','PurchaseOrderNumber'],axis=0,inplace=True)\n",
    "'Convert \"SalesOrderID\" to Object'\n",
    "data['SalesOrderID']=data['SalesOrderID'].astype(object)\n",
    "\"check Time Duration\"\n",
    "print(data['OrderDate'].min(),\n",
    "data['OrderDate'].max()) \n",
    "\"OrderDate has order records May 2011 to June 2014\"\n",
    "print(data)\n"
   ]
  },
  {
   "cell_type": "code",
   "execution_count": 242,
   "id": "872633d3-992e-4eb8-887e-7967bdf17bb6",
   "metadata": {},
   "outputs": [],
   "source": [
    "#Save Dataset\n",
    "data.to_csv('SalesOrderHeader.csv',index=True,encoding=\"utf-8\")"
   ]
  },
  {
   "cell_type": "code",
   "execution_count": 173,
   "id": "10c43596-cc4f-415b-9ec8-da073f162123",
   "metadata": {},
   "outputs": [],
   "source": [
    "#Data Cleaning: SalesOrderDetail Table"
   ]
  },
  {
   "cell_type": "code",
   "execution_count": 200,
   "id": "45eb4736-51ba-4d20-8abe-c1487cb3cd42",
   "metadata": {},
   "outputs": [
    {
     "data": {
      "text/plain": [
       "0         2019-07-13 00:00:00\n",
       "1         2019-07-13 00:00:00\n",
       "2         2019-07-13 00:00:00\n",
       "3         2019-07-13 00:00:00\n",
       "4         2019-07-13 00:00:00\n",
       "                 ...         \n",
       "121312    2105-09-03 00:00:00\n",
       "121313    2105-09-03 00:00:00\n",
       "121314    2105-09-04 00:00:00\n",
       "121315    2105-09-04 00:00:00\n",
       "121316    2105-09-04 00:00:00\n",
       "Name: SalesOrderID, Length: 121317, dtype: object"
      ]
     },
     "execution_count": 200,
     "metadata": {},
     "output_type": "execute_result"
    }
   ],
   "source": [
    "\"import dataset\"\n",
    "Data_Order_Detail=pd.read_excel(\"SalesOrderDetail.xlsx\")\n",
    "#print(data)\n",
    "'Convert dtype \"SalesOrderID\"'\n",
    "Data_Order_Detail['SalesOrderID'].astype(object)"
   ]
  },
  {
   "cell_type": "code",
   "execution_count": 241,
   "id": "73fa5ee7-4434-45d9-977a-84b774f3e389",
   "metadata": {},
   "outputs": [],
   "source": [
    "#save Dataset\n",
    "data.to_csv('SalesOrderDetail1.csv',index=False,encoding=\"utf-8\")"
   ]
  },
  {
   "cell_type": "code",
   "execution_count": null,
   "id": "6cb9d45a-098d-48f7-ae6d-2cd9f78c4fef",
   "metadata": {},
   "outputs": [],
   "source": [
    "#Data Cleaning: Product Table\n"
   ]
  },
  {
   "cell_type": "code",
   "execution_count": 213,
   "id": "0bb8d41a-9e6f-4b48-ba6f-d14d05f0a6cb",
   "metadata": {},
   "outputs": [
    {
     "name": "stdout",
     "output_type": "stream",
     "text": [
      "     ProductID                   Name ProductNumber  FinishedGoodsFlag  Color  \\\n",
      "0            1        Adjustable Race       AR-5381                  0    NaN   \n",
      "1            2           Bearing Ball       BA-8327                  0    NaN   \n",
      "2            3        BB Ball Bearing       BE-2349                  0    NaN   \n",
      "3            4  Headset Ball Bearings       BE-2908                  0    NaN   \n",
      "4          316                  Blade       BL-2036                  0    NaN   \n",
      "..         ...                    ...           ...                ...    ...   \n",
      "499        995      ML Bottom Bracket       BB-8107                  1    NaN   \n",
      "500        996      HL Bottom Bracket       BB-9108                  1    NaN   \n",
      "501        997     Road-750 Black, 44    BK-R19B-44                  1  Black   \n",
      "502        998     Road-750 Black, 48    BK-R19B-48                  1  Black   \n",
      "503        999     Road-750 Black, 52    BK-R19B-52                  1  Black   \n",
      "\n",
      "     StandardCost  ListPrice  DaysToManufacture  ProductSubcategoryID  \n",
      "0          0.0000       0.00                  0                   NaN  \n",
      "1          0.0000       0.00                  0                   NaN  \n",
      "2          0.0000       0.00                  1                   NaN  \n",
      "3          0.0000       0.00                  0                   NaN  \n",
      "4          0.0000       0.00                  1                   NaN  \n",
      "..            ...        ...                ...                   ...  \n",
      "499       44.9506     101.24                  1                   5.0  \n",
      "500       53.9416     121.49                  1                   5.0  \n",
      "501      343.6496     539.99                  4                   2.0  \n",
      "502      343.6496     539.99                  4                   2.0  \n",
      "503      343.6496     539.99                  4                   2.0  \n",
      "\n",
      "[504 rows x 9 columns]\n",
      "0.0 2171.2942 0.0 3578.27\n",
      "<class 'pandas.core.frame.DataFrame'>\n",
      "RangeIndex: 504 entries, 0 to 503\n",
      "Data columns (total 9 columns):\n",
      " #   Column                Non-Null Count  Dtype  \n",
      "---  ------                --------------  -----  \n",
      " 0   ProductID             504 non-null    int64  \n",
      " 1   Name                  504 non-null    object \n",
      " 2   ProductNumber         504 non-null    object \n",
      " 3   FinishedGoodsFlag     504 non-null    int64  \n",
      " 4   Color                 504 non-null    object \n",
      " 5   StandardCost          504 non-null    float64\n",
      " 6   ListPrice             504 non-null    float64\n",
      " 7   DaysToManufacture     504 non-null    int64  \n",
      " 8   ProductSubcategoryID  504 non-null    int64  \n",
      "dtypes: float64(2), int64(4), object(3)\n",
      "memory usage: 35.6+ KB\n",
      "None\n"
     ]
    }
   ],
   "source": [
    "#import dataset\n",
    "Data_Product=pd.read_excel(\"Product.xlsx\")\n",
    "print(Data_Product)\n",
    "##check 'StandardCost' and 'ListPrice' data Validation\n",
    "print(Data_Product['StandardCost'].min(),\n",
    "      Data_Product['StandardCost'].max(),\n",
    "      Data_Product['ListPrice'].min(),\n",
    "      Data_Product['ListPrice'].max()\n",
    "     )\n",
    "\"\"\"StandardCost values 0.0 2171.2942 \n",
    "ListPrice values 0.0 3578.27\"\"\"\n",
    "# Fill 'Nan' Values \n",
    "Data_Product['Color']=Data_Product['Color'].fillna('Unknown')\n",
    "Data_Product['ProductSubcategoryID']=Data_Product['ProductSubcategoryID'].fillna(0).astype(int)\n",
    "print(Data_Product.info())"
   ]
  },
  {
   "cell_type": "code",
   "execution_count": 240,
   "id": "d4d4cb86-da79-4b25-a686-2928734538fd",
   "metadata": {},
   "outputs": [],
   "source": [
    "#save dataset\n",
    "Data_Product.to_csv('Product1.csv',index=False,encoding=\"utf-8\")"
   ]
  },
  {
   "cell_type": "code",
   "execution_count": 228,
   "id": "0e9e8344-86f4-4082-be9e-9589c62347f2",
   "metadata": {},
   "outputs": [],
   "source": [
    "#Data Cleaning: Customer Table\n"
   ]
  },
  {
   "cell_type": "code",
   "execution_count": 233,
   "id": "d5974cdf-8448-4099-87e9-edb19f0d4afc",
   "metadata": {},
   "outputs": [
    {
     "name": "stdout",
     "output_type": "stream",
     "text": [
      "   CustomerID  PersonID  StoreID  TerritoryID\n",
      "0           1       NaN    934.0            1\n",
      "1           2       NaN   1028.0            1\n",
      "2           3       NaN    642.0            4\n",
      "3           4       NaN    932.0            4\n",
      "4           5       NaN   1026.0            4\n"
     ]
    }
   ],
   "source": [
    "'import dataset'\n",
    "customer=pd.read_excel('Customer.xlsx')\n",
    "print(customer.head())\n",
    "\"drop StoreID column\"\n",
    "customer.drop(columns='StoreID',inplace=True)"
   ]
  },
  {
   "cell_type": "code",
   "execution_count": 246,
   "id": "0ee6814a-23ff-4a8e-b21e-c9f509a0954f",
   "metadata": {},
   "outputs": [],
   "source": [
    "#save dataset\n",
    "customer.to_csv('Customer1.csv',index=False,encoding=\"utf-8\")"
   ]
  },
  {
   "cell_type": "code",
   "execution_count": 245,
   "id": "78ab24aa-c402-4d7d-a328-cb5ed5d78f7b",
   "metadata": {},
   "outputs": [
    {
     "name": "stdout",
     "output_type": "stream",
     "text": [
      "   ProductCategoryID         Name\n",
      "0                  1        Bikes\n",
      "1                  2   Components\n",
      "2                  3     Clothing\n",
      "3                  4  Accessories\n"
     ]
    }
   ],
   "source": [
    "#ProductCategory Table\n",
    "'import dataset'\n",
    "Data_Category=pd.read_excel(\"ProductCategory.xlsx\")\n",
    "print(Data_Category)\n",
    "Data_Category.to_csv(\"ProductCategory2.csv\",index=False,encoding=\"utf-8\")\n"
   ]
  },
  {
   "cell_type": "code",
   "execution_count": 244,
   "id": "042204e1-292b-4bae-b350-ef9dc247a503",
   "metadata": {},
   "outputs": [
    {
     "name": "stdout",
     "output_type": "stream",
     "text": [
      "    ProductSubcategoryID               Name  ProductCategoryID\n",
      "0                      1     Mountain Bikes                  1\n",
      "1                      2         Road Bikes                  1\n",
      "2                      3      Touring Bikes                  1\n",
      "3                      4         Handlebars                  2\n",
      "4                      5    Bottom Brackets                  2\n",
      "5                      6             Brakes                  2\n",
      "6                      7             Chains                  2\n",
      "7                      8          Cranksets                  2\n",
      "8                      9        Derailleurs                  2\n",
      "9                     10              Forks                  2\n",
      "10                    11           Headsets                  2\n",
      "11                    12    Mountain Frames                  2\n",
      "12                    13             Pedals                  2\n",
      "13                    14        Road Frames                  2\n",
      "14                    15            Saddles                  2\n",
      "15                    16     Touring Frames                  2\n",
      "16                    17             Wheels                  2\n",
      "17                    18         Bib-Shorts                  3\n",
      "18                    19               Caps                  3\n",
      "19                    20             Gloves                  3\n",
      "20                    21            Jerseys                  3\n",
      "21                    22             Shorts                  3\n",
      "22                    23              Socks                  3\n",
      "23                    24             Tights                  3\n",
      "24                    25              Vests                  3\n",
      "25                    26         Bike Racks                  4\n",
      "26                    27        Bike Stands                  4\n",
      "27                    28  Bottles and Cages                  4\n",
      "28                    29           Cleaners                  4\n",
      "29                    30            Fenders                  4\n",
      "30                    31            Helmets                  4\n",
      "31                    32    Hydration Packs                  4\n",
      "32                    33             Lights                  4\n",
      "33                    34              Locks                  4\n",
      "34                    35           Panniers                  4\n",
      "35                    36              Pumps                  4\n",
      "36                    37    Tires and Tubes                  4\n"
     ]
    }
   ],
   "source": [
    "#ProductSubcategory Table\n",
    "Data_Subcategory=pd.read_excel(\"ProductSubcategory.xlsx\")\n",
    "print(Data_Subcategory)\n",
    "Data_Subcategory.to_csv(\"ProductSubcategory1.csv\",index=False,encoding=\"utf-8\")"
   ]
  },
  {
   "cell_type": "code",
   "execution_count": 237,
   "id": "30b603b5-d4f8-4753-8731-87c8a627ce9b",
   "metadata": {},
   "outputs": [
    {
     "name": "stdout",
     "output_type": "stream",
     "text": [
      "   TerritoryID       Name Country          Group\n",
      "0            1  Northwest      US  North America\n",
      "1            2  Northeast      US  North America\n",
      "2            3    Central      US  North America\n",
      "3            4  Southwest      US  North America\n",
      "4            5  Southeast      US  North America\n"
     ]
    }
   ],
   "source": [
    "#Territory Table\n",
    "'import dataset'\n",
    "data_territory=pd.read_excel(\"SalesTerritory.xlsx\")\n",
    "print(data_territory.head())\n",
    "#save dataset to 'csv'\n",
    "data_territory.to_csv('SalesTerritory2.csv',index=False,encoding=\"utf-8\")"
   ]
  },
  {
   "cell_type": "code",
   "execution_count": null,
   "id": "f4fb6581-0727-4b4f-9ef7-910cb4014a4f",
   "metadata": {},
   "outputs": [],
   "source": []
  }
 ],
 "metadata": {
  "kernelspec": {
   "display_name": "Python 3 (ipykernel)",
   "language": "python",
   "name": "python3"
  },
  "language_info": {
   "codemirror_mode": {
    "name": "ipython",
    "version": 3
   },
   "file_extension": ".py",
   "mimetype": "text/x-python",
   "name": "python",
   "nbconvert_exporter": "python",
   "pygments_lexer": "ipython3",
   "version": "3.13.5"
  }
 },
 "nbformat": 4,
 "nbformat_minor": 5
}
